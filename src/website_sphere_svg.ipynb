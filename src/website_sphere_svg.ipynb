{
 "cells": [
  {
   "metadata": {},
   "cell_type": "markdown",
   "source": [
    "# Creating a Website Sphere SVG Icon\n",
    "\n",
    "In this notebook, we'll create an SVG icon that resembles a website globe/sphere. This icon symbolizes internet connectivity and global web presence. The design will include a circular globe with grid lines and elements suggesting web connectivity."
   ],
   "id": "1a6dd6d5d93ddb53"
  },
  {
   "metadata": {},
   "cell_type": "code",
   "outputs": [],
   "execution_count": null,
   "source": [
    "from IPython.display import SVG, display\n",
    "\n",
    "# Create the SVG for a website sphere/globe icon\n",
    "svg_code = '''\n",
    "<svg xmlns=\"http://www.w3.org/2000/svg\" viewBox=\"0 0 24 24\" fill=\"none\" stroke=\"currentColor\" stroke-width=\"1.5\" stroke-linecap=\"round\" stroke-linejoin=\"round\">\n",
    "  <!-- Main globe circle -->\n",
    "  <circle cx=\"12\" cy=\"12\" r=\"10\" fill=\"none\" />\n",
    "  \n",
    "  <!-- Horizontal latitude lines -->\n",
    "  <path d=\"M2 12h20\" />\n",
    "  <path d=\"M4 6h16\" />\n",
    "  <path d=\"M4 18h16\" />\n",
    "  \n",
    "  <!-- Vertical longitude lines -->\n",
    "  <path d=\"M12 2v20\" />\n",
    "  <path d=\"M19 4.8a14 14 0 0 0-14 0\" />\n",
    "  <path d=\"M19 19.2a14 14 0 0 1-14 0\" />\n",
    "  \n",
    "  <!-- Web elements - curved paths suggesting connectivity -->\n",
    "  <path d=\"M7.5 4.2C7.5 7 9 12 12 12s4.5-5 4.5-7.8\" />\n",
    "  <path d=\"M7.5 19.8C7.5 17 9 12 12 12s4.5 5 4.5 7.8\" />\n",
    "  \n",
    "  <!-- Website/browser element on top of globe -->\n",
    "  <rect x=\"8\" y=\"9\" width=\"8\" height=\"6\" rx=\"1\" fill=\"none\" />\n",
    "  <path d=\"M8 11h8\" />\n",
    "</svg>\n",
    "'''\n",
    "\n",
    "# Display the SVG\n",
    "display(SVG(svg_code))\n",
    "\n",
    "# Print the SVG code for copy-pasting\n",
    "print(svg_code)"
   ],
   "id": "9a6c9f561dedc74f"
  }
 ],
 "metadata": {
  "kernelspec": {
   "display_name": "Python 3",
   "language": "python",
   "name": "python3"
  },
  "language_info": {
   "codemirror_mode": {
    "name": "ipython",
    "version": 2
   },
   "file_extension": ".py",
   "mimetype": "text/x-python",
   "name": "python",
   "nbconvert_exporter": "python",
   "pygments_lexer": "ipython2",
   "version": "2.7.6"
  }
 },
 "nbformat": 4,
 "nbformat_minor": 5
}
